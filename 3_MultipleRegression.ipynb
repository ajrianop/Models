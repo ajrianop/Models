{
  "nbformat": 4,
  "nbformat_minor": 0,
  "metadata": {
    "colab": {
      "provenance": [],
      "authorship_tag": "ABX9TyPFPsYJIQcoQJFNK1wwREZp",
      "include_colab_link": true
    },
    "kernelspec": {
      "name": "python3",
      "display_name": "Python 3"
    },
    "language_info": {
      "name": "python"
    }
  },
  "cells": [
    {
      "cell_type": "markdown",
      "metadata": {
        "id": "view-in-github",
        "colab_type": "text"
      },
      "source": [
        "<a href=\"https://colab.research.google.com/github/ajrianop/Models/blob/main/3_MultipleRegression.ipynb\" target=\"_parent\"><img src=\"https://colab.research.google.com/assets/colab-badge.svg\" alt=\"Open In Colab\"/></a>"
      ]
    },
    {
      "cell_type": "markdown",
      "source": [
        "# **Multiple Regression**"
      ],
      "metadata": {
        "id": "o7SXJwYb3Mro"
      }
    },
    {
      "cell_type": "markdown",
      "source": [
        "In these cases where want to study some dependent variable according to several independant variables. In that way, we are goin to use multiple regression.<br>\n",
        "\n",
        "Note that if the amount of dependant variables we want to study is more than one, we are going to lead with a problem of multivariate regression, which is different than multiple regression."
      ],
      "metadata": {
        "id": "NI7NC31R3mLp"
      }
    },
    {
      "cell_type": "markdown",
      "source": [
        "**Multiple regression** also called as a multiple linear regression. The model that we are going to obtain is associated to the expression \n",
        "$$y= \\alpha_1x_1+\\alpha_2 x_2+ \\cdots + \\alpha_n x_n,$$\n",
        "where $\\alpha_i$ are the coefficients and $x_n$ are the features we need to make our prediction.<br>\n",
        "The coefficients says to us how important each factor is, whenever our data is normalized. So if one coefficient is near to zero, it is possible that this feature is not relevant.<br>\n",
        "We are going to measure the $R^2$ with the OLS model. (package to use statsmodel)\n",
        "\n"
      ],
      "metadata": {
        "id": "W5dFKowLUA5e"
      }
    },
    {
      "cell_type": "markdown",
      "source": [
        "## **Example**"
      ],
      "metadata": {
        "id": "V_-WuaGHUmS2"
      }
    },
    {
      "cell_type": "markdown",
      "source": [
        "Importing libraries"
      ],
      "metadata": {
        "id": "FaGg7SYwNlow"
      }
    },
    {
      "cell_type": "code",
      "source": [
        "import pandas as pd\n",
        "import numpy as np\n",
        "import statsmodels.api as sm\n",
        "from sklearn.preprocessing import StandardScaler"
      ],
      "metadata": {
        "id": "wsWzWz8QNnvV"
      },
      "execution_count": 45,
      "outputs": []
    },
    {
      "cell_type": "markdown",
      "source": [
        "We are going to use a dataset given by the instructor Frank Kane, given in\n",
        "URL http://cdn.sundog-soft.com/Udemy/DataScience/cars.xls"
      ],
      "metadata": {
        "id": "-aeyTgYaI0xd"
      }
    },
    {
      "cell_type": "code",
      "execution_count": null,
      "metadata": {
        "id": "aY3rVq4q3Iz1"
      },
      "outputs": [],
      "source": [
        "df = pd.read_excel('http://cdn.sundog-soft.com/Udemy/DataScience/cars.xls')"
      ]
    },
    {
      "cell_type": "markdown",
      "source": [
        "In case that this links does not "
      ],
      "metadata": {
        "id": "8DA-bXQoOOp9"
      }
    },
    {
      "cell_type": "code",
      "source": [
        "#from google.colab import drive\n",
        "#drive.mount(\"/content/gdrive\")"
      ],
      "metadata": {
        "id": "bWcJGk1LN5ot",
        "colab": {
          "base_uri": "https://localhost:8080/"
        },
        "outputId": "7bcf337a-0190-4184-a861-54ab4e50ca07"
      },
      "execution_count": 4,
      "outputs": [
        {
          "output_type": "stream",
          "name": "stdout",
          "text": [
            "Mounted at /content/gdrive\n"
          ]
        }
      ]
    },
    {
      "cell_type": "code",
      "source": [
        "#df=pd.read_excel(\"/content/gdrive/MyDrive/Programming Topics/Models/dataset/cars.xls\")\n",
        "#df"
      ],
      "metadata": {
        "colab": {
          "base_uri": "https://localhost:8080/",
          "height": 424
        },
        "id": "e_Z43-HyNvFD",
        "outputId": "8a11500e-00de-47de-a193-b4f245ee31f4"
      },
      "execution_count": 6,
      "outputs": [
        {
          "output_type": "execute_result",
          "data": {
            "text/plain": [
              "            Price  Mileage    Make     Model           Trim   Type  Cylinder  \\\n",
              "0    17314.103129     8221   Buick   Century       Sedan 4D  Sedan         6   \n",
              "1    17542.036083     9135   Buick   Century       Sedan 4D  Sedan         6   \n",
              "2    16218.847862    13196   Buick   Century       Sedan 4D  Sedan         6   \n",
              "3    16336.913140    16342   Buick   Century       Sedan 4D  Sedan         6   \n",
              "4    16339.170324    19832   Buick   Century       Sedan 4D  Sedan         6   \n",
              "..            ...      ...     ...       ...            ...    ...       ...   \n",
              "799  16507.070267    16229  Saturn  L Series  L300 Sedan 4D  Sedan         6   \n",
              "800  16175.957604    19095  Saturn  L Series  L300 Sedan 4D  Sedan         6   \n",
              "801  15731.132897    20484  Saturn  L Series  L300 Sedan 4D  Sedan         6   \n",
              "802  15118.893228    25979  Saturn  L Series  L300 Sedan 4D  Sedan         6   \n",
              "803  13585.636802    35662  Saturn  L Series  L300 Sedan 4D  Sedan         6   \n",
              "\n",
              "     Liter  Doors  Cruise  Sound  Leather  \n",
              "0      3.1      4       1      1        1  \n",
              "1      3.1      4       1      1        0  \n",
              "2      3.1      4       1      1        0  \n",
              "3      3.1      4       1      0        0  \n",
              "4      3.1      4       1      0        1  \n",
              "..     ...    ...     ...    ...      ...  \n",
              "799    3.0      4       1      0        0  \n",
              "800    3.0      4       1      1        0  \n",
              "801    3.0      4       1      1        0  \n",
              "802    3.0      4       1      1        0  \n",
              "803    3.0      4       1      0        0  \n",
              "\n",
              "[804 rows x 12 columns]"
            ],
            "text/html": [
              "\n",
              "  <div id=\"df-4f300411-f7ad-4f29-8f6d-aa8fb24d03be\">\n",
              "    <div class=\"colab-df-container\">\n",
              "      <div>\n",
              "<style scoped>\n",
              "    .dataframe tbody tr th:only-of-type {\n",
              "        vertical-align: middle;\n",
              "    }\n",
              "\n",
              "    .dataframe tbody tr th {\n",
              "        vertical-align: top;\n",
              "    }\n",
              "\n",
              "    .dataframe thead th {\n",
              "        text-align: right;\n",
              "    }\n",
              "</style>\n",
              "<table border=\"1\" class=\"dataframe\">\n",
              "  <thead>\n",
              "    <tr style=\"text-align: right;\">\n",
              "      <th></th>\n",
              "      <th>Price</th>\n",
              "      <th>Mileage</th>\n",
              "      <th>Make</th>\n",
              "      <th>Model</th>\n",
              "      <th>Trim</th>\n",
              "      <th>Type</th>\n",
              "      <th>Cylinder</th>\n",
              "      <th>Liter</th>\n",
              "      <th>Doors</th>\n",
              "      <th>Cruise</th>\n",
              "      <th>Sound</th>\n",
              "      <th>Leather</th>\n",
              "    </tr>\n",
              "  </thead>\n",
              "  <tbody>\n",
              "    <tr>\n",
              "      <th>0</th>\n",
              "      <td>17314.103129</td>\n",
              "      <td>8221</td>\n",
              "      <td>Buick</td>\n",
              "      <td>Century</td>\n",
              "      <td>Sedan 4D</td>\n",
              "      <td>Sedan</td>\n",
              "      <td>6</td>\n",
              "      <td>3.1</td>\n",
              "      <td>4</td>\n",
              "      <td>1</td>\n",
              "      <td>1</td>\n",
              "      <td>1</td>\n",
              "    </tr>\n",
              "    <tr>\n",
              "      <th>1</th>\n",
              "      <td>17542.036083</td>\n",
              "      <td>9135</td>\n",
              "      <td>Buick</td>\n",
              "      <td>Century</td>\n",
              "      <td>Sedan 4D</td>\n",
              "      <td>Sedan</td>\n",
              "      <td>6</td>\n",
              "      <td>3.1</td>\n",
              "      <td>4</td>\n",
              "      <td>1</td>\n",
              "      <td>1</td>\n",
              "      <td>0</td>\n",
              "    </tr>\n",
              "    <tr>\n",
              "      <th>2</th>\n",
              "      <td>16218.847862</td>\n",
              "      <td>13196</td>\n",
              "      <td>Buick</td>\n",
              "      <td>Century</td>\n",
              "      <td>Sedan 4D</td>\n",
              "      <td>Sedan</td>\n",
              "      <td>6</td>\n",
              "      <td>3.1</td>\n",
              "      <td>4</td>\n",
              "      <td>1</td>\n",
              "      <td>1</td>\n",
              "      <td>0</td>\n",
              "    </tr>\n",
              "    <tr>\n",
              "      <th>3</th>\n",
              "      <td>16336.913140</td>\n",
              "      <td>16342</td>\n",
              "      <td>Buick</td>\n",
              "      <td>Century</td>\n",
              "      <td>Sedan 4D</td>\n",
              "      <td>Sedan</td>\n",
              "      <td>6</td>\n",
              "      <td>3.1</td>\n",
              "      <td>4</td>\n",
              "      <td>1</td>\n",
              "      <td>0</td>\n",
              "      <td>0</td>\n",
              "    </tr>\n",
              "    <tr>\n",
              "      <th>4</th>\n",
              "      <td>16339.170324</td>\n",
              "      <td>19832</td>\n",
              "      <td>Buick</td>\n",
              "      <td>Century</td>\n",
              "      <td>Sedan 4D</td>\n",
              "      <td>Sedan</td>\n",
              "      <td>6</td>\n",
              "      <td>3.1</td>\n",
              "      <td>4</td>\n",
              "      <td>1</td>\n",
              "      <td>0</td>\n",
              "      <td>1</td>\n",
              "    </tr>\n",
              "    <tr>\n",
              "      <th>...</th>\n",
              "      <td>...</td>\n",
              "      <td>...</td>\n",
              "      <td>...</td>\n",
              "      <td>...</td>\n",
              "      <td>...</td>\n",
              "      <td>...</td>\n",
              "      <td>...</td>\n",
              "      <td>...</td>\n",
              "      <td>...</td>\n",
              "      <td>...</td>\n",
              "      <td>...</td>\n",
              "      <td>...</td>\n",
              "    </tr>\n",
              "    <tr>\n",
              "      <th>799</th>\n",
              "      <td>16507.070267</td>\n",
              "      <td>16229</td>\n",
              "      <td>Saturn</td>\n",
              "      <td>L Series</td>\n",
              "      <td>L300 Sedan 4D</td>\n",
              "      <td>Sedan</td>\n",
              "      <td>6</td>\n",
              "      <td>3.0</td>\n",
              "      <td>4</td>\n",
              "      <td>1</td>\n",
              "      <td>0</td>\n",
              "      <td>0</td>\n",
              "    </tr>\n",
              "    <tr>\n",
              "      <th>800</th>\n",
              "      <td>16175.957604</td>\n",
              "      <td>19095</td>\n",
              "      <td>Saturn</td>\n",
              "      <td>L Series</td>\n",
              "      <td>L300 Sedan 4D</td>\n",
              "      <td>Sedan</td>\n",
              "      <td>6</td>\n",
              "      <td>3.0</td>\n",
              "      <td>4</td>\n",
              "      <td>1</td>\n",
              "      <td>1</td>\n",
              "      <td>0</td>\n",
              "    </tr>\n",
              "    <tr>\n",
              "      <th>801</th>\n",
              "      <td>15731.132897</td>\n",
              "      <td>20484</td>\n",
              "      <td>Saturn</td>\n",
              "      <td>L Series</td>\n",
              "      <td>L300 Sedan 4D</td>\n",
              "      <td>Sedan</td>\n",
              "      <td>6</td>\n",
              "      <td>3.0</td>\n",
              "      <td>4</td>\n",
              "      <td>1</td>\n",
              "      <td>1</td>\n",
              "      <td>0</td>\n",
              "    </tr>\n",
              "    <tr>\n",
              "      <th>802</th>\n",
              "      <td>15118.893228</td>\n",
              "      <td>25979</td>\n",
              "      <td>Saturn</td>\n",
              "      <td>L Series</td>\n",
              "      <td>L300 Sedan 4D</td>\n",
              "      <td>Sedan</td>\n",
              "      <td>6</td>\n",
              "      <td>3.0</td>\n",
              "      <td>4</td>\n",
              "      <td>1</td>\n",
              "      <td>1</td>\n",
              "      <td>0</td>\n",
              "    </tr>\n",
              "    <tr>\n",
              "      <th>803</th>\n",
              "      <td>13585.636802</td>\n",
              "      <td>35662</td>\n",
              "      <td>Saturn</td>\n",
              "      <td>L Series</td>\n",
              "      <td>L300 Sedan 4D</td>\n",
              "      <td>Sedan</td>\n",
              "      <td>6</td>\n",
              "      <td>3.0</td>\n",
              "      <td>4</td>\n",
              "      <td>1</td>\n",
              "      <td>0</td>\n",
              "      <td>0</td>\n",
              "    </tr>\n",
              "  </tbody>\n",
              "</table>\n",
              "<p>804 rows × 12 columns</p>\n",
              "</div>\n",
              "      <button class=\"colab-df-convert\" onclick=\"convertToInteractive('df-4f300411-f7ad-4f29-8f6d-aa8fb24d03be')\"\n",
              "              title=\"Convert this dataframe to an interactive table.\"\n",
              "              style=\"display:none;\">\n",
              "        \n",
              "  <svg xmlns=\"http://www.w3.org/2000/svg\" height=\"24px\"viewBox=\"0 0 24 24\"\n",
              "       width=\"24px\">\n",
              "    <path d=\"M0 0h24v24H0V0z\" fill=\"none\"/>\n",
              "    <path d=\"M18.56 5.44l.94 2.06.94-2.06 2.06-.94-2.06-.94-.94-2.06-.94 2.06-2.06.94zm-11 1L8.5 8.5l.94-2.06 2.06-.94-2.06-.94L8.5 2.5l-.94 2.06-2.06.94zm10 10l.94 2.06.94-2.06 2.06-.94-2.06-.94-.94-2.06-.94 2.06-2.06.94z\"/><path d=\"M17.41 7.96l-1.37-1.37c-.4-.4-.92-.59-1.43-.59-.52 0-1.04.2-1.43.59L10.3 9.45l-7.72 7.72c-.78.78-.78 2.05 0 2.83L4 21.41c.39.39.9.59 1.41.59.51 0 1.02-.2 1.41-.59l7.78-7.78 2.81-2.81c.8-.78.8-2.07 0-2.86zM5.41 20L4 18.59l7.72-7.72 1.47 1.35L5.41 20z\"/>\n",
              "  </svg>\n",
              "      </button>\n",
              "      \n",
              "  <style>\n",
              "    .colab-df-container {\n",
              "      display:flex;\n",
              "      flex-wrap:wrap;\n",
              "      gap: 12px;\n",
              "    }\n",
              "\n",
              "    .colab-df-convert {\n",
              "      background-color: #E8F0FE;\n",
              "      border: none;\n",
              "      border-radius: 50%;\n",
              "      cursor: pointer;\n",
              "      display: none;\n",
              "      fill: #1967D2;\n",
              "      height: 32px;\n",
              "      padding: 0 0 0 0;\n",
              "      width: 32px;\n",
              "    }\n",
              "\n",
              "    .colab-df-convert:hover {\n",
              "      background-color: #E2EBFA;\n",
              "      box-shadow: 0px 1px 2px rgba(60, 64, 67, 0.3), 0px 1px 3px 1px rgba(60, 64, 67, 0.15);\n",
              "      fill: #174EA6;\n",
              "    }\n",
              "\n",
              "    [theme=dark] .colab-df-convert {\n",
              "      background-color: #3B4455;\n",
              "      fill: #D2E3FC;\n",
              "    }\n",
              "\n",
              "    [theme=dark] .colab-df-convert:hover {\n",
              "      background-color: #434B5C;\n",
              "      box-shadow: 0px 1px 3px 1px rgba(0, 0, 0, 0.15);\n",
              "      filter: drop-shadow(0px 1px 2px rgba(0, 0, 0, 0.3));\n",
              "      fill: #FFFFFF;\n",
              "    }\n",
              "  </style>\n",
              "\n",
              "      <script>\n",
              "        const buttonEl =\n",
              "          document.querySelector('#df-4f300411-f7ad-4f29-8f6d-aa8fb24d03be button.colab-df-convert');\n",
              "        buttonEl.style.display =\n",
              "          google.colab.kernel.accessAllowed ? 'block' : 'none';\n",
              "\n",
              "        async function convertToInteractive(key) {\n",
              "          const element = document.querySelector('#df-4f300411-f7ad-4f29-8f6d-aa8fb24d03be');\n",
              "          const dataTable =\n",
              "            await google.colab.kernel.invokeFunction('convertToInteractive',\n",
              "                                                     [key], {});\n",
              "          if (!dataTable) return;\n",
              "\n",
              "          const docLinkHtml = 'Like what you see? Visit the ' +\n",
              "            '<a target=\"_blank\" href=https://colab.research.google.com/notebooks/data_table.ipynb>data table notebook</a>'\n",
              "            + ' to learn more about interactive tables.';\n",
              "          element.innerHTML = '';\n",
              "          dataTable['output_type'] = 'display_data';\n",
              "          await google.colab.output.renderOutput(dataTable, element);\n",
              "          const docLink = document.createElement('div');\n",
              "          docLink.innerHTML = docLinkHtml;\n",
              "          element.appendChild(docLink);\n",
              "        }\n",
              "      </script>\n",
              "    </div>\n",
              "  </div>\n",
              "  "
            ]
          },
          "metadata": {},
          "execution_count": 6
        }
      ]
    },
    {
      "cell_type": "markdown",
      "source": [
        "Let us inspect the dataset for `Mileage` and `Price` :"
      ],
      "metadata": {
        "id": "lRT8NmqbPNHp"
      }
    },
    {
      "cell_type": "code",
      "source": [
        "df1=df[['Mileage','Price']]\n",
        "#Maximum value\n",
        "print(max(df1['Mileage']))\n",
        "#Minimum value\n",
        "print(min(df1['Mileage']))"
      ],
      "metadata": {
        "colab": {
          "base_uri": "https://localhost:8080/"
        },
        "id": "LrFPwct-QNZT",
        "outputId": "1a16395f-d212-453d-80a3-b369366f3074"
      },
      "execution_count": 14,
      "outputs": [
        {
          "output_type": "stream",
          "name": "stdout",
          "text": [
            "50387\n",
            "266\n"
          ]
        }
      ]
    },
    {
      "cell_type": "markdown",
      "source": [
        "We can note that the maximun value is 50387 and the minumum value is 266. So, we can compute the means according to bins (grouping) generated by an interval of prices:"
      ],
      "metadata": {
        "id": "Su_XV_eePDCQ"
      }
    },
    {
      "cell_type": "code",
      "source": [
        "#Generate a bin to see the behaviour of the prices\n",
        "bins=np.arange(0,55000,5000)\n",
        "#Generating the mean of the Mileage and Prices by means the partition given by bins\n",
        "groups = df1.groupby(pd.cut(df1['Mileage'],bins)).mean()\n",
        "print(\"Table of Mileage and Price by interval \\n\", groups)\n",
        "#Plotting using pandas method\n",
        "groups['Price'].plot.line(figsize=(10, 5))"
      ],
      "metadata": {
        "colab": {
          "base_uri": "https://localhost:8080/",
          "height": 577
        },
        "id": "IdRILJdISRJx",
        "outputId": "dfa138d1-96d2-452c-db4e-b6756f6f7d49"
      },
      "execution_count": 43,
      "outputs": [
        {
          "output_type": "stream",
          "name": "stdout",
          "text": [
            "Table of Mileage and Price by interval \n",
            "                      Mileage         Price\n",
            "Mileage                                   \n",
            "(0, 5000]        2710.285714  24197.742182\n",
            "(5000, 10000]    7420.303030  24032.424077\n",
            "(10000, 15000]  12623.274510  22951.041904\n",
            "(15000, 20000]  17986.450000  21321.627393\n",
            "(20000, 25000]  22382.625571  20626.774748\n",
            "(25000, 30000]  26694.408163  19759.906246\n",
            "(30000, 35000]  32316.266667  19868.399839\n",
            "(35000, 40000]  37035.823529  18392.327285\n",
            "(40000, 45000]  41701.250000  31308.872576\n",
            "(45000, 50000]  48991.000000  28777.959695\n"
          ]
        },
        {
          "output_type": "execute_result",
          "data": {
            "text/plain": [
              "<matplotlib.axes._subplots.AxesSubplot at 0x7f79c867a190>"
            ]
          },
          "metadata": {},
          "execution_count": 43
        },
        {
          "output_type": "display_data",
          "data": {
            "text/plain": [
              "<Figure size 720x360 with 1 Axes>"
            ],
            "image/png": "[encoded data removed]"
          },
          "metadata": {
            "needs_background": "light"
          }
        }
      ]
    },
    {
      "cell_type": "markdown",
      "source": [
        "We want to predict the price according to several features, so we are going to use the multiple regression. We need to take care with ordinal values, due to this values should be described as a numerical values to be able to make the prediction properly.\n",
        "In order to do that, we have to change the scale of our features, due to the final coefficients change if our information is not standarized. In this example we are going to use the StandardScaler from sklearn"
      ],
      "metadata": {
        "id": "aR3n2wiagG-p"
      }
    },
    {
      "cell_type": "code",
      "source": [
        "from re import X\n",
        "#We initialize the scale\n",
        "scale=StandardScaler()\n",
        "X= df[['Mileage','Cylinder','Doors']]\n",
        "y= df['Price']\n",
        "X[['Mileage','Cylinder','Doors']]=scale.fit_transform(X[['Mileage','Cylinder','Doors']].values)\n",
        "#Add a column with constant 1\n",
        "X = sm.add_constant(X)\n",
        "print(X)\n",
        "#Ordinal Least Squares model\n",
        "est = sm.OLS(y, X).fit()\n",
        "\n",
        "print(est.summary())\n"
      ],
      "metadata": {
        "colab": {
          "base_uri": "https://localhost:8080/"
        },
        "id": "MaM50E2AUUhG",
        "outputId": "f02b9dee-ddfd-4f8b-a61c-70293f7fd2bc"
      },
      "execution_count": 61,
      "outputs": [
        {
          "output_type": "stream",
          "name": "stdout",
          "text": [
            "     const   Mileage  Cylinder     Doors\n",
            "0      1.0 -1.417485   0.52741  0.556279\n",
            "1      1.0 -1.305902   0.52741  0.556279\n",
            "2      1.0 -0.810128   0.52741  0.556279\n",
            "3      1.0 -0.426058   0.52741  0.556279\n",
            "4      1.0  0.000008   0.52741  0.556279\n",
            "..     ...       ...       ...       ...\n",
            "799    1.0 -0.439853   0.52741  0.556279\n",
            "800    1.0 -0.089966   0.52741  0.556279\n",
            "801    1.0  0.079605   0.52741  0.556279\n",
            "802    1.0  0.750446   0.52741  0.556279\n",
            "803    1.0  1.932565   0.52741  0.556279\n",
            "\n",
            "[804 rows x 4 columns]\n",
            "                            OLS Regression Results                            \n",
            "==============================================================================\n",
            "Dep. Variable:                  Price   R-squared:                       0.360\n",
            "Model:                            OLS   Adj. R-squared:                  0.358\n",
            "Method:                 Least Squares   F-statistic:                     150.0\n",
            "Date:                Mon, 16 Jan 2023   Prob (F-statistic):           3.95e-77\n",
            "Time:                        22:00:59   Log-Likelihood:                -8356.7\n",
            "No. Observations:                 804   AIC:                         1.672e+04\n",
            "Df Residuals:                     800   BIC:                         1.674e+04\n",
            "Df Model:                           3                                         \n",
            "Covariance Type:            nonrobust                                         \n",
            "==============================================================================\n",
            "                 coef    std err          t      P>|t|      [0.025      0.975]\n",
            "------------------------------------------------------------------------------\n",
            "const       2.134e+04    279.405     76.388      0.000    2.08e+04    2.19e+04\n",
            "Mileage    -1272.3412    279.567     -4.551      0.000   -1821.112    -723.571\n",
            "Cylinder    5587.4472    279.527     19.989      0.000    5038.754    6136.140\n",
            "Doors      -1404.5513    279.446     -5.026      0.000   -1953.085    -856.018\n",
            "==============================================================================\n",
            "Omnibus:                      157.913   Durbin-Watson:                   0.069\n",
            "Prob(Omnibus):                  0.000   Jarque-Bera (JB):              257.529\n",
            "Skew:                           1.278   Prob(JB):                     1.20e-56\n",
            "Kurtosis:                       4.074   Cond. No.                         1.03\n",
            "==============================================================================\n",
            "\n",
            "Notes:\n",
            "[1] Standard Errors assume that the covariance matrix of the errors is correctly specified.\n"
          ]
        },
        {
          "output_type": "stream",
          "name": "stderr",
          "text": [
            "/usr/local/lib/python3.8/dist-packages/pandas/core/frame.py:3678: SettingWithCopyWarning: \n",
            "A value is trying to be set on a copy of a slice from a DataFrame.\n",
            "Try using .loc[row_indexer,col_indexer] = value instead\n",
            "\n",
            "See the caveats in the documentation: https://pandas.pydata.org/pandas-docs/stable/user_guide/indexing.html#returning-a-view-versus-a-copy\n",
            "  self[col] = igetitem(value, i)\n",
            "/usr/local/lib/python3.8/dist-packages/statsmodels/tsa/tsatools.py:142: FutureWarning: In a future version of pandas all arguments of concat except for the argument 'objs' will be keyword-only\n",
            "  x = pd.concat(x[::order], 1)\n"
          ]
        }
      ]
    },
    {
      "cell_type": "markdown",
      "source": [
        "We can see that in the model that:\n",
        "1. Mileage has a negative coefficient which seem reasonable, because if the car has more mileage, the prices would decrease.\n",
        "2. The number of cylinder seems to be a great impact in the price due to is the greatest coefficient in the model. (Affects the model more than the other features)\n",
        "3. More doors seems to lead dicreasing in prices. This could be related with sport cars, which are more expensive and this usually has a less amount of doors. Let us see if this conclusion has any sense. The idea is to see which is the mean given by cars with different amount of doors:"
      ],
      "metadata": {
        "id": "apvBPRB4uAW8"
      }
    },
    {
      "cell_type": "code",
      "source": [
        "#carByDoors=df.groupby\n",
        "priceCarByDoors=y.groupby(df.Doors).mean()\n",
        "priceCarByDoors.to_frame()"
      ],
      "metadata": {
        "colab": {
          "base_uri": "https://localhost:8080/",
          "height": 143
        },
        "id": "E1hDBRdRxgwJ",
        "outputId": "0a0ce13d-7ba0-4eae-d64e-c22ca87359ce"
      },
      "execution_count": 76,
      "outputs": [
        {
          "output_type": "execute_result",
          "data": {
            "text/plain": [
              "              Price\n",
              "Doors              \n",
              "2      23807.135520\n",
              "4      20580.670749"
            ],
            "text/html": [
              "\n",
              "  <div id=\"df-2fc8af9e-5303-4faa-9b70-558dceb90223\">\n",
              "    <div class=\"colab-df-container\">\n",
              "      <div>\n",
              "<style scoped>\n",
              "    .dataframe tbody tr th:only-of-type {\n",
              "        vertical-align: middle;\n",
              "    }\n",
              "\n",
              "    .dataframe tbody tr th {\n",
              "        vertical-align: top;\n",
              "    }\n",
              "\n",
              "    .dataframe thead th {\n",
              "        text-align: right;\n",
              "    }\n",
              "</style>\n",
              "<table border=\"1\" class=\"dataframe\">\n",
              "  <thead>\n",
              "    <tr style=\"text-align: right;\">\n",
              "      <th></th>\n",
              "      <th>Price</th>\n",
              "    </tr>\n",
              "    <tr>\n",
              "      <th>Doors</th>\n",
              "      <th></th>\n",
              "    </tr>\n",
              "  </thead>\n",
              "  <tbody>\n",
              "    <tr>\n",
              "      <th>2</th>\n",
              "      <td>23807.135520</td>\n",
              "    </tr>\n",
              "    <tr>\n",
              "      <th>4</th>\n",
              "      <td>20580.670749</td>\n",
              "    </tr>\n",
              "  </tbody>\n",
              "</table>\n",
              "</div>\n",
              "      <button class=\"colab-df-convert\" onclick=\"convertToInteractive('df-2fc8af9e-5303-4faa-9b70-558dceb90223')\"\n",
              "              title=\"Convert this dataframe to an interactive table.\"\n",
              "              style=\"display:none;\">\n",
              "        \n",
              "  <svg xmlns=\"http://www.w3.org/2000/svg\" height=\"24px\"viewBox=\"0 0 24 24\"\n",
              "       width=\"24px\">\n",
              "    <path d=\"M0 0h24v24H0V0z\" fill=\"none\"/>\n",
              "    <path d=\"M18.56 5.44l.94 2.06.94-2.06 2.06-.94-2.06-.94-.94-2.06-.94 2.06-2.06.94zm-11 1L8.5 8.5l.94-2.06 2.06-.94-2.06-.94L8.5 2.5l-.94 2.06-2.06.94zm10 10l.94 2.06.94-2.06 2.06-.94-2.06-.94-.94-2.06-.94 2.06-2.06.94z\"/><path d=\"M17.41 7.96l-1.37-1.37c-.4-.4-.92-.59-1.43-.59-.52 0-1.04.2-1.43.59L10.3 9.45l-7.72 7.72c-.78.78-.78 2.05 0 2.83L4 21.41c.39.39.9.59 1.41.59.51 0 1.02-.2 1.41-.59l7.78-7.78 2.81-2.81c.8-.78.8-2.07 0-2.86zM5.41 20L4 18.59l7.72-7.72 1.47 1.35L5.41 20z\"/>\n",
              "  </svg>\n",
              "      </button>\n",
              "      \n",
              "  <style>\n",
              "    .colab-df-container {\n",
              "      display:flex;\n",
              "      flex-wrap:wrap;\n",
              "      gap: 12px;\n",
              "    }\n",
              "\n",
              "    .colab-df-convert {\n",
              "      background-color: #E8F0FE;\n",
              "      border: none;\n",
              "      border-radius: 50%;\n",
              "      cursor: pointer;\n",
              "      display: none;\n",
              "      fill: #1967D2;\n",
              "      height: 32px;\n",
              "      padding: 0 0 0 0;\n",
              "      width: 32px;\n",
              "    }\n",
              "\n",
              "    .colab-df-convert:hover {\n",
              "      background-color: #E2EBFA;\n",
              "      box-shadow: 0px 1px 2px rgba(60, 64, 67, 0.3), 0px 1px 3px 1px rgba(60, 64, 67, 0.15);\n",
              "      fill: #174EA6;\n",
              "    }\n",
              "\n",
              "    [theme=dark] .colab-df-convert {\n",
              "      background-color: #3B4455;\n",
              "      fill: #D2E3FC;\n",
              "    }\n",
              "\n",
              "    [theme=dark] .colab-df-convert:hover {\n",
              "      background-color: #434B5C;\n",
              "      box-shadow: 0px 1px 3px 1px rgba(0, 0, 0, 0.15);\n",
              "      filter: drop-shadow(0px 1px 2px rgba(0, 0, 0, 0.3));\n",
              "      fill: #FFFFFF;\n",
              "    }\n",
              "  </style>\n",
              "\n",
              "      <script>\n",
              "        const buttonEl =\n",
              "          document.querySelector('#df-2fc8af9e-5303-4faa-9b70-558dceb90223 button.colab-df-convert');\n",
              "        buttonEl.style.display =\n",
              "          google.colab.kernel.accessAllowed ? 'block' : 'none';\n",
              "\n",
              "        async function convertToInteractive(key) {\n",
              "          const element = document.querySelector('#df-2fc8af9e-5303-4faa-9b70-558dceb90223');\n",
              "          const dataTable =\n",
              "            await google.colab.kernel.invokeFunction('convertToInteractive',\n",
              "                                                     [key], {});\n",
              "          if (!dataTable) return;\n",
              "\n",
              "          const docLinkHtml = 'Like what you see? Visit the ' +\n",
              "            '<a target=\"_blank\" href=https://colab.research.google.com/notebooks/data_table.ipynb>data table notebook</a>'\n",
              "            + ' to learn more about interactive tables.';\n",
              "          element.innerHTML = '';\n",
              "          dataTable['output_type'] = 'display_data';\n",
              "          await google.colab.output.renderOutput(dataTable, element);\n",
              "          const docLink = document.createElement('div');\n",
              "          docLink.innerHTML = docLinkHtml;\n",
              "          element.appendChild(docLink);\n",
              "        }\n",
              "      </script>\n",
              "    </div>\n",
              "  </div>\n",
              "  "
            ]
          },
          "metadata": {},
          "execution_count": 76
        }
      ]
    },
    {
      "cell_type": "markdown",
      "source": [
        "In fact, we can see a little bit difference between cars with 2 doors and those with 4 doors."
      ],
      "metadata": {
        "id": "9EfIPsq3zHoU"
      }
    },
    {
      "cell_type": "markdown",
      "source": [
        "## **Using the model**"
      ],
      "metadata": {
        "id": "oKaui05o0p86"
      }
    },
    {
      "cell_type": "markdown",
      "source": [
        "Now, we generate a possible case which contains the following information:\n",
        "* Mileage.\n",
        "* Cylinder.\n",
        "* Doors.<br>\n",
        "After generate this array we need to re-scale it with `scale` previously anounced, then we have to add the constant 1 in the column 0 in order to run the model."
      ],
      "metadata": {
        "id": "H6P4hnZS0uKL"
      }
    },
    {
      "cell_type": "code",
      "source": [
        "Sample = [35000, 8, 4]\n",
        "Features= ['Mileage', 'Cylinder', 'Doors']\n",
        "#Using the StandardScaler as scale\n",
        "scaledSample = scale.transform([Sample])\n",
        "print(scaledSample)\n",
        "#Adding the column with constant 1\n",
        "scaledSample = np.insert(scaledSample[0], 0, 1)\n",
        "print(scaledSample)\n",
        "#Using the model to predict\n",
        "predictionCarPrice  = est.predict(scaledSample)\n",
        "predictionCarPrice"
      ],
      "metadata": {
        "colab": {
          "base_uri": "https://localhost:8080/"
        },
        "id": "EdyRP42zyPZZ",
        "outputId": "479aaa9e-b233-4c06-cf8a-880f0f72dd0d"
      },
      "execution_count": 101,
      "outputs": [
        {
          "output_type": "stream",
          "name": "stdout",
          "text": [
            "[[1.85174666 1.96971667 0.55627894]]\n",
            "[1.         1.85174666 1.96971667 0.55627894]\n"
          ]
        },
        {
          "output_type": "execute_result",
          "data": {
            "text/plain": [
              "array([29211.45571751])"
            ]
          },
          "metadata": {},
          "execution_count": 101
        }
      ]
    },
    {
      "cell_type": "code",
      "source": [
        "print('The price of the car with ')\n",
        "for i,j in zip(Sample, Features):\n",
        "  print(j, ': ', i)\n",
        "print('is: USD$', predictionCarPrice[0])"
      ],
      "metadata": {
        "colab": {
          "base_uri": "https://localhost:8080/"
        },
        "id": "z4n6MdyA4iCb",
        "outputId": "68c3fdeb-c7f3-4a49-ce89-90041c35ec95"
      },
      "execution_count": 110,
      "outputs": [
        {
          "output_type": "stream",
          "name": "stdout",
          "text": [
            "The price of the car with \n",
            "Mileage :  35000\n",
            "Cylinder :  8\n",
            "Doors :  4\n",
            "is: USD$ 29211.455717509685\n"
          ]
        }
      ]
    },
    {
      "cell_type": "markdown",
      "source": [
        "Let us write a function which allow us to conclude quickly"
      ],
      "metadata": {
        "id": "AWgDe6I85fvR"
      }
    },
    {
      "cell_type": "code",
      "source": [
        "def conclusion(dataSample, features):\n",
        "  #Using the StandardScaler as scale\n",
        "  scaledSample = scale.transform([dataSample])\n",
        "  #Adding the column with constant 1\n",
        "  scaledSample = np.insert(scaledSample[0], 0, 1)\n",
        "  #Using the model to predict\n",
        "  predictionCarPrice  = est.predict(scaledSample)\n",
        "  '''\n",
        "  Function which describe the conclusion using the trained OLS model\n",
        "  '''\n",
        "  print('The price of the car with ')\n",
        "  for i,j in zip(dataSample, features):\n",
        "    print(j, ': ', i)\n",
        "  print('is: USD$', predictionCarPrice[0])"
      ],
      "metadata": {
        "id": "AEDTBNAQ5e5s"
      },
      "execution_count": 116,
      "outputs": []
    },
    {
      "cell_type": "code",
      "source": [
        "Sample2=[25000, 8, 2]\n",
        "Features=['Mileage', 'Cylinder', 'Doors']\n",
        "conclusion(Sample2, Features)"
      ],
      "metadata": {
        "colab": {
          "base_uri": "https://localhost:8080/"
        },
        "id": "W6nFod6x5DIT",
        "outputId": "397f4b1f-2338-4017-b748-66d47d74d4fe"
      },
      "execution_count": 120,
      "outputs": [
        {
          "output_type": "stream",
          "name": "stdout",
          "text": [
            "The price of the car with \n",
            "Mileage :  25000\n",
            "Cylinder :  8\n",
            "Doors :  2\n",
            "is: USD$ 34070.98146666367\n"
          ]
        }
      ]
    }
  ]
}