{
  "nbformat": 4,
  "nbformat_minor": 0,
  "metadata": {
    "colab": {
      "provenance": [],
      "authorship_tag": "ABX9TyOTdlRS0ArK9BN8ikrz3sCU",
      "include_colab_link": true
    },
    "kernelspec": {
      "name": "python3",
      "display_name": "Python 3"
    },
    "language_info": {
      "name": "python"
    }
  },
  "cells": [
    {
      "cell_type": "markdown",
      "metadata": {
        "id": "view-in-github",
        "colab_type": "text"
      },
      "source": [
        "<a href=\"https://colab.research.google.com/github/ajrianop/Models/blob/main/Neuronal_Network.ipynb\" target=\"_parent\"><img src=\"https://colab.research.google.com/assets/colab-badge.svg\" alt=\"Open In Colab\"/></a>"
      ]
    },
    {
      "cell_type": "code",
      "execution_count": null,
      "metadata": {
        "id": "qOy0pAQwq-mt"
      },
      "outputs": [],
      "source": [
        "import tensorflow as tf\n",
        "import numpy as np"
      ]
    },
    {
      "cell_type": "code",
      "source": [
        "F=1.8*100+32\n",
        "F"
      ],
      "metadata": {
        "colab": {
          "base_uri": "https://localhost:8080/"
        },
        "id": "kdHqoL_99_ax",
        "outputId": "392f23b4-f288-4dc4-ca8d-045df6010a5b"
      },
      "execution_count": null,
      "outputs": [
        {
          "output_type": "execute_result",
          "data": {
            "text/plain": [
              "212.0"
            ]
          },
          "metadata": {},
          "execution_count": 64
        }
      ]
    },
    {
      "cell_type": "markdown",
      "source": [
        "We want to compute Farenheit degrees according to the Celsius degree\n",
        "$F=1.8 C +32,$\n",
        "\n",
        "$C$: Celsius\n",
        "\n",
        "$F$: Farenheit\n",
        "\n",
        "We are going to compute for $100 C^{\\circ},$\n",
        "\n",
        "$F=1.8*100+32=212.0 F^{\\circ}$"
      ],
      "metadata": {
        "id": "VPkFO6KP9_3v"
      }
    },
    {
      "cell_type": "code",
      "source": [
        "Celsius=np.array([-40,-10,0, 8, 15, 22, 38], dtype=float)\n",
        "Farenheit=np.array([-40,14,32,46,59,72,100], dtype=float)"
      ],
      "metadata": {
        "id": "nrSPUhvstVEX"
      },
      "execution_count": null,
      "outputs": []
    },
    {
      "cell_type": "code",
      "source": [
        "#Building the structure of the model, with one layer\n",
        "capa=tf.keras.layers.Dense(units=1, input_shape=[1])\n",
        "model= tf.keras.Sequential([capa])"
      ],
      "metadata": {
        "id": "k0MI0MYX3TuY"
      },
      "execution_count": null,
      "outputs": []
    },
    {
      "cell_type": "code",
      "source": [
        "model.compile(\n",
        "    optimizer=tf.keras.optimizers.Adam(0.01),\n",
        "    loss='mean_squared_error' #This function consider that a bit amount of big errors is worse than a big amount of tiny errors.\n",
        ")"
      ],
      "metadata": {
        "id": "Q8RHKBDj3vu5"
      },
      "execution_count": null,
      "outputs": []
    },
    {
      "cell_type": "code",
      "source": [
        "print(\"Start the training\")\n",
        "historial=model.fit(Celsius,Farenheit, epochs=1000, verbose=False)\n",
        "print(\"Model trained.\")"
      ],
      "metadata": {
        "colab": {
          "base_uri": "https://localhost:8080/"
        },
        "id": "RiIil4573_kl",
        "outputId": "8021749b-c831-4282-afb0-349f3babce72"
      },
      "execution_count": null,
      "outputs": [
        {
          "output_type": "stream",
          "name": "stdout",
          "text": [
            "Start the training\n",
            "Model trained.\n"
          ]
        }
      ]
    },
    {
      "cell_type": "code",
      "source": [
        "import matplotlib.pyplot as plt\n",
        "plt.xlabel(\"# Epoch\")\n",
        "plt.ylabel(\"Loss magnitude\")\n",
        "plt.plot(historial.history[\"loss\"])"
      ],
      "metadata": {
        "colab": {
          "base_uri": "https://localhost:8080/",
          "height": 296
        },
        "id": "RXTEWCz94y6W",
        "outputId": "aad2f388-4bf4-4e4b-f2d0-0f569e52fc1f"
      },
      "execution_count": null,
      "outputs": [
        {
          "output_type": "execute_result",
          "data": {
            "text/plain": [
              "[<matplotlib.lines.Line2D at 0x7f9daaf31b90>]"
            ]
          },
          "metadata": {},
          "execution_count": 55
        },
        {
          "output_type": "display_data",
          "data": {
            "text/plain": [
              "<Figure size 432x288 with 1 Axes>"
            ],
            "image/png": "[encoded data removed]"
          },
          "metadata": {
            "needs_background": "light"
          }
        }
      ]
    },
    {
      "cell_type": "code",
      "source": [
        "print(\"Let do a prediction with this neuronal network\")\n",
        "celsius_data=float(input(\"Write the Celsius degree: \"))\n",
        "result= model.predict([celsius_data])\n",
        "print(f\"The result of {celsius_data} Celsius degrees is {result[0][0]} Farenheit degrees\")"
      ],
      "metadata": {
        "colab": {
          "base_uri": "https://localhost:8080/"
        },
        "id": "ldrVRQml4dDh",
        "outputId": "70eca338-6c48-4333-87bd-2523669c25d3"
      },
      "execution_count": null,
      "outputs": [
        {
          "output_type": "stream",
          "name": "stdout",
          "text": [
            "Let do a prediction with this neuronal network\n",
            "Write the Celsius degree: 100\n",
            "The result of 100.0 Celsius degrees is 211.74746704101562 Farenheit degrees\n"
          ]
        }
      ]
    },
    {
      "cell_type": "code",
      "source": [
        "#How is the inner structure of the net:\n",
        "print(\"Inner variables\")\n",
        "print(capa.get_weights())"
      ],
      "metadata": {
        "colab": {
          "base_uri": "https://localhost:8080/"
        },
        "id": "MV9hef0d7ALK",
        "outputId": "1a301d02-133f-4107-ccad-97f7c918fb34"
      },
      "execution_count": null,
      "outputs": [
        {
          "output_type": "stream",
          "name": "stdout",
          "text": [
            "Inner variables\n",
            "[array([[1.7979493]], dtype=float32), array([31.952526], dtype=float32)]\n"
          ]
        }
      ]
    },
    {
      "cell_type": "markdown",
      "source": [
        "*Now we are going to consider the model with three neurons and two intermediate layers*"
      ],
      "metadata": {
        "id": "8ZzbtClT3utq"
      }
    },
    {
      "cell_type": "code",
      "source": [
        "hiden1=tf.keras.layers.Dense(units=3, input_shape=[1])\n",
        "hiden2=tf.keras.layers.Dense(units=3)\n",
        "target=tf.keras.layers.Dense(units=1)\n",
        "model2=tf.keras.Sequential([hiden1,hiden2,target])"
      ],
      "metadata": {
        "id": "eeYV5NsA8hL7"
      },
      "execution_count": null,
      "outputs": []
    },
    {
      "cell_type": "code",
      "source": [
        "model2.compile(\n",
        "    optimizer=tf.keras.optimizers.Adam(0.1),\n",
        "    loss='mean_squared_error' #This function consider that a bit amount of big errors is worse than a big amount of tiny errors.\n",
        ")"
      ],
      "metadata": {
        "id": "9eeCi4hG86j8"
      },
      "execution_count": null,
      "outputs": []
    },
    {
      "cell_type": "code",
      "source": [
        "print(\"Start the training\")\n",
        "historial=model2.fit(Celsius,Farenheit, epochs=1000, verbose=False)\n",
        "print(\"Model trained.\")"
      ],
      "metadata": {
        "colab": {
          "base_uri": "https://localhost:8080/"
        },
        "id": "lsK5K6Sr9CMZ",
        "outputId": "1f22b8ab-43fd-483e-e9c6-1a9b12c98c3a"
      },
      "execution_count": null,
      "outputs": [
        {
          "output_type": "stream",
          "name": "stdout",
          "text": [
            "Start the training\n",
            "Model trained.\n"
          ]
        }
      ]
    },
    {
      "cell_type": "code",
      "source": [
        "import matplotlib.pyplot as plt\n",
        "plt.xlabel(\"# Epoch\")\n",
        "plt.ylabel(\"Loss magnitude\")\n",
        "plt.plot(historial.history[\"loss\"])"
      ],
      "metadata": {
        "colab": {
          "base_uri": "https://localhost:8080/",
          "height": 296
        },
        "id": "-DooP0QT9Eyr",
        "outputId": "e4ad1a91-7a85-41c7-db15-0b524e88e0b0"
      },
      "execution_count": null,
      "outputs": [
        {
          "output_type": "execute_result",
          "data": {
            "text/plain": [
              "[<matplotlib.lines.Line2D at 0x7f9dacb2e150>]"
            ]
          },
          "metadata": {},
          "execution_count": 59
        },
        {
          "output_type": "display_data",
          "data": {
            "text/plain": [
              "<Figure size 432x288 with 1 Axes>"
            ],
            "image/png": "[encoded data removed]"
          },
          "metadata": {
            "needs_background": "light"
          }
        }
      ]
    },
    {
      "cell_type": "code",
      "source": [
        "print(\"Let do a prediction with this neuronal network\")\n",
        "celsius_data=float(input(\"Write the Celsius degree: \"))\n",
        "result= model2.predict([celsius_data])\n",
        "print(f\"The result of {celsius_data} Celsius degrees is {result[0][0]} Farenheit degrees\")"
      ],
      "metadata": {
        "colab": {
          "base_uri": "https://localhost:8080/"
        },
        "id": "DEt3UGN69iyO",
        "outputId": "b69e41a4-0d9e-4154-c2dc-8f6882b44d81"
      },
      "execution_count": null,
      "outputs": [
        {
          "output_type": "stream",
          "name": "stdout",
          "text": [
            "Let do a prediction with this neuronal network\n",
            "Write the Celsius degree: 100\n",
            "The result of 100.0 Celsius degrees is 211.7474365234375 Farenheit degrees\n"
          ]
        }
      ]
    },
    {
      "cell_type": "code",
      "source": [
        "print(\"Inner variables of the model\")\n",
        "print(hiden1.get_weights())\n",
        "print(hiden2.get_weights())\n",
        "print(target.get_weights())"
      ],
      "metadata": {
        "colab": {
          "base_uri": "https://localhost:8080/"
        },
        "id": "uzhEdapr9tBg",
        "outputId": "1be7d027-c791-4958-b36d-ec905769ea4d"
      },
      "execution_count": null,
      "outputs": [
        {
          "output_type": "stream",
          "name": "stdout",
          "text": [
            "Inner variables of the model\n",
            "[array([[-0.24861658,  0.5579086 , -0.033981  ]], dtype=float32), array([-3.3717093,  2.880939 ,  1.7713649], dtype=float32)]\n",
            "[array([[ 0.67045695,  1.7272859 ,  0.97713184],\n",
            "       [-0.42432573, -0.13183106, -0.4926098 ],\n",
            "       [-0.00302589, -0.44142595,  0.447152  ]], dtype=float32), array([-3.0632107, -2.7794006, -2.9664774], dtype=float32)]\n",
            "[array([[-1.3659679],\n",
            "       [-1.2646396],\n",
            "       [-1.1819112]], dtype=float32), array([2.5127587], dtype=float32)]\n"
          ]
        }
      ]
    },
    {
      "cell_type": "markdown",
      "source": [
        "We can note that the values of the first and second model, are trained well enought and gives us values that are near to the solution:\n",
        "\n",
        "model => 211.74746704101562\n",
        "\n",
        "model2 =>211.7474365234375"
      ],
      "metadata": {
        "id": "iV_iGJmQ-zsC"
      }
    }
  ]
}